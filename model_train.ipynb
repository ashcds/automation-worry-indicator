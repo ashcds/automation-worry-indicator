{
 "cells": [
  {
   "cell_type": "markdown",
   "id": "9c43c4f2",
   "metadata": {},
   "source": [
    "#### Data Import and Preprocessing"
   ]
  },
  {
   "cell_type": "code",
   "execution_count": 2,
   "id": "380d7544",
   "metadata": {},
   "outputs": [],
   "source": [
    "# Standard imports \n",
    "import pandas as pd\n",
    "import numpy as np\n",
    "import matplotlib.pyplot as plt\n",
    "import seaborn as sns"
   ]
  },
  {
   "cell_type": "code",
   "execution_count": 12,
   "id": "b70283c8",
   "metadata": {},
   "outputs": [
    {
     "data": {
      "text/html": [
       "<div>\n",
       "<style scoped>\n",
       "    .dataframe tbody tr th:only-of-type {\n",
       "        vertical-align: middle;\n",
       "    }\n",
       "\n",
       "    .dataframe tbody tr th {\n",
       "        vertical-align: top;\n",
       "    }\n",
       "\n",
       "    .dataframe thead th {\n",
       "        text-align: right;\n",
       "    }\n",
       "</style>\n",
       "<table border=\"1\" class=\"dataframe\">\n",
       "  <thead>\n",
       "    <tr style=\"text-align: right;\">\n",
       "      <th></th>\n",
       "      <th>QKEY</th>\n",
       "      <th>NEW_Device_Type_W27</th>\n",
       "      <th>LANGUAGE_W27</th>\n",
       "      <th>FORM_W27</th>\n",
       "      <th>CAREREL_W27</th>\n",
       "      <th>INDUSTRY_W27</th>\n",
       "      <th>JOBDUTY_A_W27</th>\n",
       "      <th>JOBDUTY_B_W27</th>\n",
       "      <th>JOBDUTY_C_W27</th>\n",
       "      <th>JOBDUTY_D_W27</th>\n",
       "      <th>...</th>\n",
       "      <th>WORKCAT_62</th>\n",
       "      <th>WORKCAT_63</th>\n",
       "      <th>WORKCAT_64</th>\n",
       "      <th>WORKCAT_65</th>\n",
       "      <th>WORKCAT_66</th>\n",
       "      <th>WORKCAT_67</th>\n",
       "      <th>WORKCAT_68</th>\n",
       "      <th>WORKCAT_23</th>\n",
       "      <th>WORKCAT_99</th>\n",
       "      <th>WEIGHT_W27</th>\n",
       "    </tr>\n",
       "  </thead>\n",
       "  <tbody>\n",
       "    <tr>\n",
       "      <th>0</th>\n",
       "      <td>100197.0</td>\n",
       "      <td>2.0</td>\n",
       "      <td>9.0</td>\n",
       "      <td>2.0</td>\n",
       "      <td>1.0</td>\n",
       "      <td>NaN</td>\n",
       "      <td>NaN</td>\n",
       "      <td>NaN</td>\n",
       "      <td>NaN</td>\n",
       "      <td>NaN</td>\n",
       "      <td>...</td>\n",
       "      <td>NaN</td>\n",
       "      <td>NaN</td>\n",
       "      <td>NaN</td>\n",
       "      <td>NaN</td>\n",
       "      <td>NaN</td>\n",
       "      <td>NaN</td>\n",
       "      <td>NaN</td>\n",
       "      <td>NaN</td>\n",
       "      <td>NaN</td>\n",
       "      <td>0.175440</td>\n",
       "    </tr>\n",
       "    <tr>\n",
       "      <th>1</th>\n",
       "      <td>100260.0</td>\n",
       "      <td>2.0</td>\n",
       "      <td>9.0</td>\n",
       "      <td>2.0</td>\n",
       "      <td>3.0</td>\n",
       "      <td>7.0</td>\n",
       "      <td>1.0</td>\n",
       "      <td>0.0</td>\n",
       "      <td>1.0</td>\n",
       "      <td>0.0</td>\n",
       "      <td>...</td>\n",
       "      <td>NaN</td>\n",
       "      <td>NaN</td>\n",
       "      <td>NaN</td>\n",
       "      <td>NaN</td>\n",
       "      <td>NaN</td>\n",
       "      <td>NaN</td>\n",
       "      <td>NaN</td>\n",
       "      <td>NaN</td>\n",
       "      <td>NaN</td>\n",
       "      <td>0.414386</td>\n",
       "    </tr>\n",
       "    <tr>\n",
       "      <th>2</th>\n",
       "      <td>100314.0</td>\n",
       "      <td>3.0</td>\n",
       "      <td>9.0</td>\n",
       "      <td>2.0</td>\n",
       "      <td>3.0</td>\n",
       "      <td>NaN</td>\n",
       "      <td>NaN</td>\n",
       "      <td>NaN</td>\n",
       "      <td>NaN</td>\n",
       "      <td>NaN</td>\n",
       "      <td>...</td>\n",
       "      <td>NaN</td>\n",
       "      <td>NaN</td>\n",
       "      <td>NaN</td>\n",
       "      <td>NaN</td>\n",
       "      <td>1.0</td>\n",
       "      <td>NaN</td>\n",
       "      <td>NaN</td>\n",
       "      <td>NaN</td>\n",
       "      <td>NaN</td>\n",
       "      <td>0.429735</td>\n",
       "    </tr>\n",
       "    <tr>\n",
       "      <th>3</th>\n",
       "      <td>100363.0</td>\n",
       "      <td>1.0</td>\n",
       "      <td>9.0</td>\n",
       "      <td>1.0</td>\n",
       "      <td>1.0</td>\n",
       "      <td>2.0</td>\n",
       "      <td>0.0</td>\n",
       "      <td>0.0</td>\n",
       "      <td>1.0</td>\n",
       "      <td>0.0</td>\n",
       "      <td>...</td>\n",
       "      <td>NaN</td>\n",
       "      <td>NaN</td>\n",
       "      <td>NaN</td>\n",
       "      <td>NaN</td>\n",
       "      <td>NaN</td>\n",
       "      <td>NaN</td>\n",
       "      <td>NaN</td>\n",
       "      <td>NaN</td>\n",
       "      <td>NaN</td>\n",
       "      <td>1.814315</td>\n",
       "    </tr>\n",
       "    <tr>\n",
       "      <th>4</th>\n",
       "      <td>100446.0</td>\n",
       "      <td>3.0</td>\n",
       "      <td>9.0</td>\n",
       "      <td>1.0</td>\n",
       "      <td>1.0</td>\n",
       "      <td>5.0</td>\n",
       "      <td>0.0</td>\n",
       "      <td>1.0</td>\n",
       "      <td>1.0</td>\n",
       "      <td>0.0</td>\n",
       "      <td>...</td>\n",
       "      <td>NaN</td>\n",
       "      <td>NaN</td>\n",
       "      <td>NaN</td>\n",
       "      <td>NaN</td>\n",
       "      <td>NaN</td>\n",
       "      <td>NaN</td>\n",
       "      <td>NaN</td>\n",
       "      <td>NaN</td>\n",
       "      <td>NaN</td>\n",
       "      <td>0.162845</td>\n",
       "    </tr>\n",
       "  </tbody>\n",
       "</table>\n",
       "<p>5 rows × 251 columns</p>\n",
       "</div>"
      ],
      "text/plain": [
       "       QKEY  NEW_Device_Type_W27  LANGUAGE_W27  FORM_W27  CAREREL_W27  \\\n",
       "0  100197.0                  2.0           9.0       2.0          1.0   \n",
       "1  100260.0                  2.0           9.0       2.0          3.0   \n",
       "2  100314.0                  3.0           9.0       2.0          3.0   \n",
       "3  100363.0                  1.0           9.0       1.0          1.0   \n",
       "4  100446.0                  3.0           9.0       1.0          1.0   \n",
       "\n",
       "   INDUSTRY_W27  JOBDUTY_A_W27  JOBDUTY_B_W27  JOBDUTY_C_W27  JOBDUTY_D_W27  \\\n",
       "0           NaN            NaN            NaN            NaN            NaN   \n",
       "1           7.0            1.0            0.0            1.0            0.0   \n",
       "2           NaN            NaN            NaN            NaN            NaN   \n",
       "3           2.0            0.0            0.0            1.0            0.0   \n",
       "4           5.0            0.0            1.0            1.0            0.0   \n",
       "\n",
       "   ...  WORKCAT_62  WORKCAT_63  WORKCAT_64  WORKCAT_65  WORKCAT_66  \\\n",
       "0  ...         NaN         NaN         NaN         NaN         NaN   \n",
       "1  ...         NaN         NaN         NaN         NaN         NaN   \n",
       "2  ...         NaN         NaN         NaN         NaN         1.0   \n",
       "3  ...         NaN         NaN         NaN         NaN         NaN   \n",
       "4  ...         NaN         NaN         NaN         NaN         NaN   \n",
       "\n",
       "   WORKCAT_67  WORKCAT_68  WORKCAT_23  WORKCAT_99  WEIGHT_W27  \n",
       "0         NaN         NaN         NaN         NaN    0.175440  \n",
       "1         NaN         NaN         NaN         NaN    0.414386  \n",
       "2         NaN         NaN         NaN         NaN    0.429735  \n",
       "3         NaN         NaN         NaN         NaN    1.814315  \n",
       "4         NaN         NaN         NaN         NaN    0.162845  \n",
       "\n",
       "[5 rows x 251 columns]"
      ]
     },
     "execution_count": 12,
     "metadata": {},
     "output_type": "execute_result"
    }
   ],
   "source": [
    "# Import raw dataset\n",
    "pew_data = pd.read_csv(\"pew_automation.csv\")\n",
    "\n",
    "# Convert to dataframe\n",
    "pew_raw = pd.DataFrame(pew_data)\n",
    "\n",
    "# Display the first few rows of the dataset\n",
    "pew_data.head()"
   ]
  },
  {
   "cell_type": "code",
   "execution_count": 6,
   "id": "9845bbe6",
   "metadata": {},
   "outputs": [],
   "source": [
    "# MOVE THIS TO THE EDA WORKBOOK LATER\n",
    "\n",
    "# selected_features = [\n",
    "#     'CARS3B_W27', 'ROBJOB4B_W27', 'CARS7B_W27', 'ROBJOB4A_W27', 'CARS7A_W27']\n",
    "\n",
    "\n",
    "# corr_matrix = pew[selected_features].corr()\n",
    "\n",
    "# plt.figure(figsize=(10, 8))\n",
    "# sns.heatmap(corr_matrix, annot=True, cmap=\"coolwarm\", vmin=-1, vmax=1)\n",
    "# plt.title(\"Correlation Matrix of Selected Features\")\n",
    "# plt.show()"
   ]
  },
  {
   "cell_type": "code",
   "execution_count": 13,
   "id": "5633c484",
   "metadata": {},
   "outputs": [
    {
     "data": {
      "text/plain": [
       "(4135, 6)"
      ]
     },
     "execution_count": 13,
     "metadata": {},
     "output_type": "execute_result"
    }
   ],
   "source": [
    "# Replace 99 with NaN\n",
    "pew_raw.replace({99: np.nan}, inplace=True)  \n",
    "\n",
    "# Create binary Target from ROBJOB3B_W27 (How worried are you about automation) \n",
    "pew_raw['Target'] = pew_raw['ROBJOB3B_W27'].replace({1: 1, 2: 1, 3: 0, 4: 0})\n",
    "\n",
    "# Create a new DataFrame with selected features and target variable\n",
    "pew = pew_raw[['CARS3B_W27', 'ROBJOB4B_W27', 'CARS7B_W27', 'ROBJOB4A_W27', 'CARS7A_W27', 'Target']].copy()\n",
    "\n",
    "pew.shape"
   ]
  },
  {
   "cell_type": "code",
   "execution_count": null,
   "id": "55f7f334",
   "metadata": {},
   "outputs": [
    {
     "data": {
      "text/plain": [
       "(4061, 6)"
      ]
     },
     "execution_count": 20,
     "metadata": {},
     "output_type": "execute_result"
    }
   ],
   "source": [
    "# Drop rows with NaN values\n",
    "pew_auto = pew.dropna()\n",
    "pew_auto.reset_index(drop=True, inplace=True) # Reset index after dropping NaN\n",
    "\n",
    "# Check the shape of the cleaned DataFrame\n",
    "pew_auto.shape"
   ]
  },
  {
   "cell_type": "code",
   "execution_count": 19,
   "id": "b163b357",
   "metadata": {},
   "outputs": [
    {
     "data": {
      "text/plain": [
       "Target\n",
       "1.0    0.69\n",
       "0.0    0.31\n",
       "Name: proportion, dtype: float64"
      ]
     },
     "execution_count": 19,
     "metadata": {},
     "output_type": "execute_result"
    }
   ],
   "source": [
    "# Check the distribution of the target variable\n",
    "round(pew_auto['Target'].value_counts(normalize=True), 2)"
   ]
  },
  {
   "cell_type": "code",
   "execution_count": 21,
   "id": "e06aaf38",
   "metadata": {},
   "outputs": [
    {
     "data": {
      "text/plain": [
       "(5628, 6)"
      ]
     },
     "execution_count": 21,
     "metadata": {},
     "output_type": "execute_result"
    }
   ],
   "source": [
    "# Use RandomOverSampler to balance the dataset\n",
    "from imblearn.over_sampling import RandomOverSampler\n",
    "X = pew_auto.drop('Target', axis=1)\n",
    "y = pew_auto['Target']\n",
    "ros = RandomOverSampler(random_state=42, sampling_strategy=\"not majority\")\n",
    "X_res, y_res = ros.fit_resample(X, y)\n",
    "\n",
    "# Create a new DataFrame with the resampled data\n",
    "pew_resampled = pd.DataFrame(X_res, columns=X.columns)\n",
    "pew_resampled['Target'] = y_res\n",
    "\n",
    "pew_resampled.shape"
   ]
  },
  {
   "cell_type": "markdown",
   "id": "e07f259d",
   "metadata": {},
   "source": [
    "#### Model Training"
   ]
  },
  {
   "cell_type": "code",
   "execution_count": null,
   "id": "3f308c1a",
   "metadata": {},
   "outputs": [
    {
     "data": {
      "text/plain": [
       "Target\n",
       "1.0    2814\n",
       "0.0    2814\n",
       "Name: count, dtype: int64"
      ]
     },
     "execution_count": 22,
     "metadata": {},
     "output_type": "execute_result"
    }
   ],
   "source": [
    "# \n",
    "pew_resampled.head"
   ]
  },
  {
   "cell_type": "code",
   "execution_count": null,
   "id": "f502a258",
   "metadata": {},
   "outputs": [],
   "source": []
  }
 ],
 "metadata": {
  "kernelspec": {
   "display_name": "techenv",
   "language": "python",
   "name": "python3"
  },
  "language_info": {
   "codemirror_mode": {
    "name": "ipython",
    "version": 3
   },
   "file_extension": ".py",
   "mimetype": "text/x-python",
   "name": "python",
   "nbconvert_exporter": "python",
   "pygments_lexer": "ipython3",
   "version": "3.12.10"
  }
 },
 "nbformat": 4,
 "nbformat_minor": 5
}
