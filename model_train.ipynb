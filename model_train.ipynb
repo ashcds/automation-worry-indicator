{
 "cells": [
  {
   "cell_type": "markdown",
   "id": "9c43c4f2",
   "metadata": {},
   "source": [
    "#### Data Import and Preprocessing"
   ]
  },
  {
   "cell_type": "code",
   "execution_count": 7,
   "id": "380d7544",
   "metadata": {},
   "outputs": [],
   "source": [
    "# Standard imports \n",
    "import pandas as pd\n",
    "import numpy as np\n",
    "import matplotlib.pyplot as plt\n",
    "import seaborn as sns"
   ]
  },
  {
   "cell_type": "code",
   "execution_count": 8,
   "id": "b70283c8",
   "metadata": {},
   "outputs": [
    {
     "data": {
      "text/html": [
       "<div>\n",
       "<style scoped>\n",
       "    .dataframe tbody tr th:only-of-type {\n",
       "        vertical-align: middle;\n",
       "    }\n",
       "\n",
       "    .dataframe tbody tr th {\n",
       "        vertical-align: top;\n",
       "    }\n",
       "\n",
       "    .dataframe thead th {\n",
       "        text-align: right;\n",
       "    }\n",
       "</style>\n",
       "<table border=\"1\" class=\"dataframe\">\n",
       "  <thead>\n",
       "    <tr style=\"text-align: right;\">\n",
       "      <th></th>\n",
       "      <th>QKEY</th>\n",
       "      <th>NEW_Device_Type_W27</th>\n",
       "      <th>LANGUAGE_W27</th>\n",
       "      <th>FORM_W27</th>\n",
       "      <th>CAREREL_W27</th>\n",
       "      <th>INDUSTRY_W27</th>\n",
       "      <th>JOBDUTY_A_W27</th>\n",
       "      <th>JOBDUTY_B_W27</th>\n",
       "      <th>JOBDUTY_C_W27</th>\n",
       "      <th>JOBDUTY_D_W27</th>\n",
       "      <th>...</th>\n",
       "      <th>WORKCAT_62</th>\n",
       "      <th>WORKCAT_63</th>\n",
       "      <th>WORKCAT_64</th>\n",
       "      <th>WORKCAT_65</th>\n",
       "      <th>WORKCAT_66</th>\n",
       "      <th>WORKCAT_67</th>\n",
       "      <th>WORKCAT_68</th>\n",
       "      <th>WORKCAT_23</th>\n",
       "      <th>WORKCAT_99</th>\n",
       "      <th>WEIGHT_W27</th>\n",
       "    </tr>\n",
       "  </thead>\n",
       "  <tbody>\n",
       "    <tr>\n",
       "      <th>0</th>\n",
       "      <td>100197.0</td>\n",
       "      <td>2.0</td>\n",
       "      <td>9.0</td>\n",
       "      <td>2.0</td>\n",
       "      <td>1.0</td>\n",
       "      <td>NaN</td>\n",
       "      <td>NaN</td>\n",
       "      <td>NaN</td>\n",
       "      <td>NaN</td>\n",
       "      <td>NaN</td>\n",
       "      <td>...</td>\n",
       "      <td>NaN</td>\n",
       "      <td>NaN</td>\n",
       "      <td>NaN</td>\n",
       "      <td>NaN</td>\n",
       "      <td>NaN</td>\n",
       "      <td>NaN</td>\n",
       "      <td>NaN</td>\n",
       "      <td>NaN</td>\n",
       "      <td>NaN</td>\n",
       "      <td>0.175440</td>\n",
       "    </tr>\n",
       "    <tr>\n",
       "      <th>1</th>\n",
       "      <td>100260.0</td>\n",
       "      <td>2.0</td>\n",
       "      <td>9.0</td>\n",
       "      <td>2.0</td>\n",
       "      <td>3.0</td>\n",
       "      <td>7.0</td>\n",
       "      <td>1.0</td>\n",
       "      <td>0.0</td>\n",
       "      <td>1.0</td>\n",
       "      <td>0.0</td>\n",
       "      <td>...</td>\n",
       "      <td>NaN</td>\n",
       "      <td>NaN</td>\n",
       "      <td>NaN</td>\n",
       "      <td>NaN</td>\n",
       "      <td>NaN</td>\n",
       "      <td>NaN</td>\n",
       "      <td>NaN</td>\n",
       "      <td>NaN</td>\n",
       "      <td>NaN</td>\n",
       "      <td>0.414386</td>\n",
       "    </tr>\n",
       "    <tr>\n",
       "      <th>2</th>\n",
       "      <td>100314.0</td>\n",
       "      <td>3.0</td>\n",
       "      <td>9.0</td>\n",
       "      <td>2.0</td>\n",
       "      <td>3.0</td>\n",
       "      <td>NaN</td>\n",
       "      <td>NaN</td>\n",
       "      <td>NaN</td>\n",
       "      <td>NaN</td>\n",
       "      <td>NaN</td>\n",
       "      <td>...</td>\n",
       "      <td>NaN</td>\n",
       "      <td>NaN</td>\n",
       "      <td>NaN</td>\n",
       "      <td>NaN</td>\n",
       "      <td>1.0</td>\n",
       "      <td>NaN</td>\n",
       "      <td>NaN</td>\n",
       "      <td>NaN</td>\n",
       "      <td>NaN</td>\n",
       "      <td>0.429735</td>\n",
       "    </tr>\n",
       "    <tr>\n",
       "      <th>3</th>\n",
       "      <td>100363.0</td>\n",
       "      <td>1.0</td>\n",
       "      <td>9.0</td>\n",
       "      <td>1.0</td>\n",
       "      <td>1.0</td>\n",
       "      <td>2.0</td>\n",
       "      <td>0.0</td>\n",
       "      <td>0.0</td>\n",
       "      <td>1.0</td>\n",
       "      <td>0.0</td>\n",
       "      <td>...</td>\n",
       "      <td>NaN</td>\n",
       "      <td>NaN</td>\n",
       "      <td>NaN</td>\n",
       "      <td>NaN</td>\n",
       "      <td>NaN</td>\n",
       "      <td>NaN</td>\n",
       "      <td>NaN</td>\n",
       "      <td>NaN</td>\n",
       "      <td>NaN</td>\n",
       "      <td>1.814315</td>\n",
       "    </tr>\n",
       "    <tr>\n",
       "      <th>4</th>\n",
       "      <td>100446.0</td>\n",
       "      <td>3.0</td>\n",
       "      <td>9.0</td>\n",
       "      <td>1.0</td>\n",
       "      <td>1.0</td>\n",
       "      <td>5.0</td>\n",
       "      <td>0.0</td>\n",
       "      <td>1.0</td>\n",
       "      <td>1.0</td>\n",
       "      <td>0.0</td>\n",
       "      <td>...</td>\n",
       "      <td>NaN</td>\n",
       "      <td>NaN</td>\n",
       "      <td>NaN</td>\n",
       "      <td>NaN</td>\n",
       "      <td>NaN</td>\n",
       "      <td>NaN</td>\n",
       "      <td>NaN</td>\n",
       "      <td>NaN</td>\n",
       "      <td>NaN</td>\n",
       "      <td>0.162845</td>\n",
       "    </tr>\n",
       "  </tbody>\n",
       "</table>\n",
       "<p>5 rows × 251 columns</p>\n",
       "</div>"
      ],
      "text/plain": [
       "       QKEY  NEW_Device_Type_W27  LANGUAGE_W27  FORM_W27  CAREREL_W27  \\\n",
       "0  100197.0                  2.0           9.0       2.0          1.0   \n",
       "1  100260.0                  2.0           9.0       2.0          3.0   \n",
       "2  100314.0                  3.0           9.0       2.0          3.0   \n",
       "3  100363.0                  1.0           9.0       1.0          1.0   \n",
       "4  100446.0                  3.0           9.0       1.0          1.0   \n",
       "\n",
       "   INDUSTRY_W27  JOBDUTY_A_W27  JOBDUTY_B_W27  JOBDUTY_C_W27  JOBDUTY_D_W27  \\\n",
       "0           NaN            NaN            NaN            NaN            NaN   \n",
       "1           7.0            1.0            0.0            1.0            0.0   \n",
       "2           NaN            NaN            NaN            NaN            NaN   \n",
       "3           2.0            0.0            0.0            1.0            0.0   \n",
       "4           5.0            0.0            1.0            1.0            0.0   \n",
       "\n",
       "   ...  WORKCAT_62  WORKCAT_63  WORKCAT_64  WORKCAT_65  WORKCAT_66  \\\n",
       "0  ...         NaN         NaN         NaN         NaN         NaN   \n",
       "1  ...         NaN         NaN         NaN         NaN         NaN   \n",
       "2  ...         NaN         NaN         NaN         NaN         1.0   \n",
       "3  ...         NaN         NaN         NaN         NaN         NaN   \n",
       "4  ...         NaN         NaN         NaN         NaN         NaN   \n",
       "\n",
       "   WORKCAT_67  WORKCAT_68  WORKCAT_23  WORKCAT_99  WEIGHT_W27  \n",
       "0         NaN         NaN         NaN         NaN    0.175440  \n",
       "1         NaN         NaN         NaN         NaN    0.414386  \n",
       "2         NaN         NaN         NaN         NaN    0.429735  \n",
       "3         NaN         NaN         NaN         NaN    1.814315  \n",
       "4         NaN         NaN         NaN         NaN    0.162845  \n",
       "\n",
       "[5 rows x 251 columns]"
      ]
     },
     "execution_count": 8,
     "metadata": {},
     "output_type": "execute_result"
    }
   ],
   "source": [
    "# Import raw dataset\n",
    "pew_data = pd.read_csv(\"pew_automation.csv\")\n",
    "\n",
    "# Convert to dataframe\n",
    "pew_raw = pd.DataFrame(pew_data)\n",
    "\n",
    "# Display the first few rows of the dataset\n",
    "pew_raw.head()"
   ]
  },
  {
   "cell_type": "code",
   "execution_count": null,
   "id": "9845bbe6",
   "metadata": {},
   "outputs": [
    {
     "data": {
      "image/png": "[encoded data removed]",
      "text/plain": [
       "<Figure size 1000x800 with 2 Axes>"
      ]
     },
     "metadata": {},
     "output_type": "display_data"
    }
   ],
   "source": [
    "# Check for multicollinearity using correlation matrix\n",
    "selected_features = [\n",
    "    'CARS3B_W27', 'ROBJOB4B_W27', 'CARS7B_W27', 'ROBJOB4A_W27', 'CARS7A_W27']\n",
    "\n",
    "corr_matrix = pew_raw[selected_features].corr()\n",
    "\n",
    "plt.figure(figsize=(10, 8))\n",
    "sns.heatmap(corr_matrix, annot=True, cmap=\"coolwarm\", vmin=-1, vmax=1)\n",
    "plt.title(\"Correlation Matrix of Selected Features\")\n",
    "plt.show()"
   ]
  },
  {
   "cell_type": "code",
   "execution_count": 10,
   "id": "5633c484",
   "metadata": {},
   "outputs": [
    {
     "data": {
      "text/plain": [
       "(4135, 6)"
      ]
     },
     "execution_count": 10,
     "metadata": {},
     "output_type": "execute_result"
    }
   ],
   "source": [
    "# Replace 99 with NaN\n",
    "pew_raw.replace({99: np.nan}, inplace=True)  \n",
    "\n",
    "# Create binary Target from ROBJOB3B_W27 (How worried are you about automation) \n",
    "pew_raw['Target'] = pew_raw['ROBJOB3B_W27'].replace({1: 1, 2: 1, 3: 0, 4: 0})\n",
    "\n",
    "# Create a new DataFrame with selected features and target variable\n",
    "pew = pew_raw[['CARS3B_W27', 'ROBJOB4B_W27', 'CARS7B_W27', 'ROBJOB4A_W27', 'CARS7A_W27', 'Target']].copy()\n",
    "\n",
    "pew.shape"
   ]
  },
  {
   "cell_type": "code",
   "execution_count": 11,
   "id": "55f7f334",
   "metadata": {},
   "outputs": [
    {
     "data": {
      "text/plain": [
       "(4061, 6)"
      ]
     },
     "execution_count": 11,
     "metadata": {},
     "output_type": "execute_result"
    }
   ],
   "source": [
    "# Drop rows with NaN values\n",
    "pew_auto = pew.dropna()\n",
    "pew_auto.reset_index(drop=True, inplace=True) # Reset index after dropping NaN\n",
    "\n",
    "# Check the shape of the cleaned DataFrame\n",
    "pew_auto.shape"
   ]
  },
  {
   "cell_type": "code",
   "execution_count": 12,
   "id": "b163b357",
   "metadata": {},
   "outputs": [
    {
     "data": {
      "text/plain": [
       "Target\n",
       "1.0    0.69\n",
       "0.0    0.31\n",
       "Name: proportion, dtype: float64"
      ]
     },
     "execution_count": 12,
     "metadata": {},
     "output_type": "execute_result"
    }
   ],
   "source": [
    "# Check the distribution of the target variable\n",
    "round(pew_auto['Target'].value_counts(normalize=True), 2)"
   ]
  },
  {
   "cell_type": "code",
   "execution_count": null,
   "id": "b7312faa",
   "metadata": {},
   "outputs": [
    {
     "data": {
      "text/plain": [
       "((2842, 5), (1219, 5), (2842,), (1219,))"
      ]
     },
     "execution_count": 13,
     "metadata": {},
     "output_type": "execute_result"
    }
   ],
   "source": [
    "from sklearn.model_selection import train_test_split\n",
    "# Split the dataset into training and testing sets\n",
    "X_train, X_test, y_train, y_test = train_test_split(\n",
    "    pew_auto.drop('Target', axis=1),\n",
    "    pew_auto['Target'],\n",
    "    test_size=0.3,\n",
    "    random_state=42, \n",
    "    stratify=pew_auto['Target']\n",
    ")\n",
    "\n",
    "# Check the shape of the training and testing sets\n",
    "X_train.shape, X_test.shape, y_train.shape, y_test.shape"
   ]
  },
  {
   "cell_type": "code",
   "execution_count": 14,
   "id": "979d6be8",
   "metadata": {},
   "outputs": [
    {
     "data": {
      "text/plain": [
       "(Target\n",
       " 1.0    0.692822\n",
       " 0.0    0.307178\n",
       " Name: proportion, dtype: float64,\n",
       " Target\n",
       " 1.0    0.693191\n",
       " 0.0    0.306809\n",
       " Name: proportion, dtype: float64)"
      ]
     },
     "execution_count": 14,
     "metadata": {},
     "output_type": "execute_result"
    }
   ],
   "source": [
    "# Check the distribution of the target variable in training and testing sets\n",
    "y_train.value_counts(normalize=True), y_test.value_counts(normalize=True)"
   ]
  },
  {
   "cell_type": "code",
   "execution_count": null,
   "id": "e06aaf38",
   "metadata": {},
   "outputs": [
    {
     "data": {
      "text/plain": [
       "(3938, 6)"
      ]
     },
     "execution_count": 15,
     "metadata": {},
     "output_type": "execute_result"
    }
   ],
   "source": [
    "# Use RandomOverSampler to balance the dataset\n",
    "from imblearn.over_sampling import RandomOverSampler\n",
    "ros = RandomOverSampler(random_state=42, sampling_strategy=\"not majority\")\n",
    "X_train_res, y_train_res = ros.fit_resample(X_train, y_train)\n",
    "\n",
    "# Create a new DataFrame with the resampled data\n",
    "pew_resampled = pd.DataFrame(X_train_res, columns=pew_auto.columns)\n",
    "pew_resampled['Target'] = y_train_res\n",
    "\n",
    "pew_resampled.shape"
   ]
  },
  {
   "cell_type": "markdown",
   "id": "e07f259d",
   "metadata": {},
   "source": [
    "#### Model Training"
   ]
  },
  {
   "cell_type": "code",
   "execution_count": 19,
   "id": "3f308c1a",
   "metadata": {},
   "outputs": [
    {
     "data": {
      "text/html": [
       "<div>\n",
       "<style scoped>\n",
       "    .dataframe tbody tr th:only-of-type {\n",
       "        vertical-align: middle;\n",
       "    }\n",
       "\n",
       "    .dataframe tbody tr th {\n",
       "        vertical-align: top;\n",
       "    }\n",
       "\n",
       "    .dataframe thead th {\n",
       "        text-align: right;\n",
       "    }\n",
       "</style>\n",
       "<table border=\"1\" class=\"dataframe\">\n",
       "  <thead>\n",
       "    <tr style=\"text-align: right;\">\n",
       "      <th></th>\n",
       "      <th>CARS3B_W27</th>\n",
       "      <th>ROBJOB4B_W27</th>\n",
       "      <th>CARS7B_W27</th>\n",
       "      <th>ROBJOB4A_W27</th>\n",
       "      <th>CARS7A_W27</th>\n",
       "      <th>Target</th>\n",
       "    </tr>\n",
       "  </thead>\n",
       "  <tbody>\n",
       "    <tr>\n",
       "      <th>0</th>\n",
       "      <td>2.0</td>\n",
       "      <td>1.0</td>\n",
       "      <td>4.0</td>\n",
       "      <td>1.0</td>\n",
       "      <td>4.0</td>\n",
       "      <td>1.0</td>\n",
       "    </tr>\n",
       "    <tr>\n",
       "      <th>1</th>\n",
       "      <td>3.0</td>\n",
       "      <td>2.0</td>\n",
       "      <td>2.0</td>\n",
       "      <td>2.0</td>\n",
       "      <td>2.0</td>\n",
       "      <td>0.0</td>\n",
       "    </tr>\n",
       "    <tr>\n",
       "      <th>2</th>\n",
       "      <td>1.0</td>\n",
       "      <td>1.0</td>\n",
       "      <td>4.0</td>\n",
       "      <td>1.0</td>\n",
       "      <td>3.0</td>\n",
       "      <td>1.0</td>\n",
       "    </tr>\n",
       "    <tr>\n",
       "      <th>3</th>\n",
       "      <td>2.0</td>\n",
       "      <td>2.0</td>\n",
       "      <td>3.0</td>\n",
       "      <td>1.0</td>\n",
       "      <td>2.0</td>\n",
       "      <td>1.0</td>\n",
       "    </tr>\n",
       "    <tr>\n",
       "      <th>4</th>\n",
       "      <td>1.0</td>\n",
       "      <td>1.0</td>\n",
       "      <td>2.0</td>\n",
       "      <td>2.0</td>\n",
       "      <td>2.0</td>\n",
       "      <td>1.0</td>\n",
       "    </tr>\n",
       "    <tr>\n",
       "      <th>5</th>\n",
       "      <td>3.0</td>\n",
       "      <td>2.0</td>\n",
       "      <td>3.0</td>\n",
       "      <td>2.0</td>\n",
       "      <td>3.0</td>\n",
       "      <td>0.0</td>\n",
       "    </tr>\n",
       "    <tr>\n",
       "      <th>6</th>\n",
       "      <td>2.0</td>\n",
       "      <td>1.0</td>\n",
       "      <td>2.0</td>\n",
       "      <td>1.0</td>\n",
       "      <td>2.0</td>\n",
       "      <td>0.0</td>\n",
       "    </tr>\n",
       "    <tr>\n",
       "      <th>7</th>\n",
       "      <td>4.0</td>\n",
       "      <td>1.0</td>\n",
       "      <td>4.0</td>\n",
       "      <td>1.0</td>\n",
       "      <td>4.0</td>\n",
       "      <td>1.0</td>\n",
       "    </tr>\n",
       "    <tr>\n",
       "      <th>8</th>\n",
       "      <td>2.0</td>\n",
       "      <td>2.0</td>\n",
       "      <td>4.0</td>\n",
       "      <td>2.0</td>\n",
       "      <td>3.0</td>\n",
       "      <td>1.0</td>\n",
       "    </tr>\n",
       "    <tr>\n",
       "      <th>9</th>\n",
       "      <td>2.0</td>\n",
       "      <td>1.0</td>\n",
       "      <td>4.0</td>\n",
       "      <td>2.0</td>\n",
       "      <td>3.0</td>\n",
       "      <td>1.0</td>\n",
       "    </tr>\n",
       "  </tbody>\n",
       "</table>\n",
       "</div>"
      ],
      "text/plain": [
       "   CARS3B_W27  ROBJOB4B_W27  CARS7B_W27  ROBJOB4A_W27  CARS7A_W27  Target\n",
       "0         2.0           1.0         4.0           1.0         4.0     1.0\n",
       "1         3.0           2.0         2.0           2.0         2.0     0.0\n",
       "2         1.0           1.0         4.0           1.0         3.0     1.0\n",
       "3         2.0           2.0         3.0           1.0         2.0     1.0\n",
       "4         1.0           1.0         2.0           2.0         2.0     1.0\n",
       "5         3.0           2.0         3.0           2.0         3.0     0.0\n",
       "6         2.0           1.0         2.0           1.0         2.0     0.0\n",
       "7         4.0           1.0         4.0           1.0         4.0     1.0\n",
       "8         2.0           2.0         4.0           2.0         3.0     1.0\n",
       "9         2.0           1.0         4.0           2.0         3.0     1.0"
      ]
     },
     "execution_count": 19,
     "metadata": {},
     "output_type": "execute_result"
    }
   ],
   "source": [
    "# Check what the resampled DataFrame looks like\n",
    "pew_resampled.head(10)"
   ]
  },
  {
   "cell_type": "code",
   "execution_count": null,
   "id": "f502a258",
   "metadata": {},
   "outputs": [
    {
     "name": "stdout",
     "output_type": "stream",
     "text": [
      "lst: Mean F1 score = 0.7129, Std F1 score = 0.0073\n",
      "lst: Mean Accuracy = 0.6986, Std Accuracy = 0.0108\n",
      "rfc: Mean F1 score = 0.7087, Std F1 score = 0.0127\n",
      "rfc: Mean Accuracy = 0.7034, Std Accuracy = 0.0119\n",
      "xgb: Mean F1 score = 0.7109, Std F1 score = 0.0081\n",
      "xgb: Mean Accuracy = 0.7070, Std Accuracy = 0.0104\n",
      "Best parameters for RandomForestClassifier: {'max_depth': 5, 'min_samples_split': 5, 'n_estimators': 100}\n",
      "Best F1 score for RandomForestClassifier: 0.7095983118792724\n",
      "Best parameters for XGBClassifier: {'learning_rate': 0.01, 'max_depth': 3, 'n_estimators': 50, 'subsample': 1.0}\n",
      "Best F1 score for XGBClassifier: 0.7218316856665347\n",
      "Model: LofisticRegression\n",
      "Accuracy: 0.7260049220672683\n",
      "F1 Score: 0.7978208232445521\n",
      "ROC AUC 0.692079865835522\n",
      "Classification Report:\n",
      "               precision    recall  f1-score   support\n",
      "\n",
      "         0.0       0.55      0.60      0.58       374\n",
      "         1.0       0.82      0.78      0.80       845\n",
      "\n",
      "    accuracy                           0.73      1219\n",
      "   macro avg       0.68      0.69      0.69      1219\n",
      "weighted avg       0.73      0.73      0.73      1219\n",
      "\n",
      "Confusion Matrix:\n",
      " [[226 148]\n",
      " [186 659]]\n",
      "Model: RandomForest (Tuned)\n",
      "Accuracy: 0.7104183757178015\n",
      "F1 Score: 0.7792370231394622\n",
      "ROC AUC 0.6935053634148657\n",
      "Classification Report:\n",
      "               precision    recall  f1-score   support\n",
      "\n",
      "         0.0       0.52      0.65      0.58       374\n",
      "         1.0       0.83      0.74      0.78       845\n",
      "\n",
      "    accuracy                           0.71      1219\n",
      "   macro avg       0.67      0.69      0.68      1219\n",
      "weighted avg       0.73      0.71      0.72      1219\n",
      "\n",
      "Confusion Matrix:\n",
      " [[243 131]\n",
      " [222 623]]\n",
      "Model: XGBoost (Tuned)\n",
      "Accuracy: 0.7301066447908121\n",
      "F1 Score: 0.8040500297796307\n",
      "ROC AUC 0.6868414391038825\n",
      "Classification Report:\n",
      "               precision    recall  f1-score   support\n",
      "\n",
      "         0.0       0.56      0.57      0.57       374\n",
      "         1.0       0.81      0.80      0.80       845\n",
      "\n",
      "    accuracy                           0.73      1219\n",
      "   macro avg       0.68      0.69      0.69      1219\n",
      "weighted avg       0.73      0.73      0.73      1219\n",
      "\n",
      "Confusion Matrix:\n",
      " [[215 159]\n",
      " [170 675]]\n"
     ]
    }
   ],
   "source": [
    "# Modeling training and evaluation\n",
    "from sklearn.linear_model import LogisticRegression\n",
    "from sklearn.ensemble import RandomForestClassifier\n",
    "from xgboost import XGBClassifier\n",
    "from sklearn.model_selection import cross_val_score, GridSearchCV\n",
    "from sklearn.metrics import accuracy_score, classification_report, confusion_matrix, roc_auc_score, f1_score\n",
    "from sklearn.pipeline import Pipeline\n",
    "\n",
    "# Define the models to be used\n",
    "models = {\n",
    "    'lst': LogisticRegression(max_iter=1000, random_state=42),\n",
    "    'rfc': RandomForestClassifier(random_state=42),\n",
    "    'xgb': XGBClassifier(eval_metric=\"logloss\", random_state=42)\n",
    "}\n",
    "\n",
    "# Train and cross validate each model\n",
    "for name, model in models.items():\n",
    "    f1 = cross_val_score(model, X_train_res, y_train_res, cv=5, scoring='f1')\n",
    "    print(f\"{name}: Mean F1 score = {f1.mean():.4f}, Std F1 score = {f1.std():.4f}\")\n",
    "    accuracy = cross_val_score(model, X_train_res, y_train_res, cv=5, scoring='accuracy')\n",
    "    print(f\"{name}: Mean Accuracy = {accuracy.mean():.4f}, Std Accuracy = {accuracy.std():.4f}\")\n",
    "\n",
    "# Hyperparameter tuning for RandomForestClassifier and XGBClassifier\n",
    "rfc_param_grid = {\n",
    "    'n_estimators': [50, 100, 200],\n",
    "    'max_depth': [3, 5, 10, None], \n",
    "    'min_samples_split': [2, 5]\n",
    "}\n",
    "\n",
    "xgb_param_grid = {\n",
    "    'n_estimators': [50, 100, 200],\n",
    "    'max_depth': [3, 5, 7],\n",
    "    'learning_rate': [0.01, 0.1, 0.2],\n",
    "    'subsample': [0.8, 1.0]\n",
    "}\n",
    "\n",
    "# Perform GridSearchCV for RandomForestClassifier\n",
    "grid_rfc = GridSearchCV(RandomForestClassifier(random_state=42), rfc_param_grid, cv=5, scoring='f1', n_jobs=-1)\n",
    "grid_rfc.fit(X_train_res, y_train_res)\n",
    "\n",
    "# Perform GridSearchCV for XGBClassifier\n",
    "grid_xgb = GridSearchCV(XGBClassifier(eval_metric=\"logloss\", random_state=42), xgb_param_grid, cv=5, scoring='f1', n_jobs=-1)\n",
    "grid_xgb.fit(X_train_res, y_train_res)\n",
    "\n",
    "# Print the best parameters and best score for RandomForestClassifier\n",
    "print(\"Best parameters for RandomForestClassifier:\", grid_rfc.best_params_)    \n",
    "print(\"Best F1 score for RandomForestClassifier:\", grid_rfc.best_score_)\n",
    "# Print the best parameters and best score for XGBClassifier\n",
    "print(\"Best parameters for XGBClassifier:\", grid_xgb.best_params_)\n",
    "print(\"Best F1 score for XGBClassifier:\", grid_xgb.best_score_)\n",
    "\n",
    "# Evaluate the best models on the test set\n",
    "best_models = {\n",
    "    'LogisticRegression': models['lst'].fit(X_train_res, y_train_res),\n",
    "    'RandomForest (Tuned)': grid_rfc.best_estimator_, \n",
    "    'XGBoost (Tuned)': grid_xgb.best_estimator_\n",
    "}\n",
    "\n",
    "for name, model in best_models.items():\n",
    "    y_pred = model.predict(X_test)\n",
    "    print(f\"Model: {name}\")\n",
    "    print(\"Accuracy:\", accuracy_score(y_test, y_pred))\n",
    "    print(\"F1 Score:\", f1_score(y_test, y_pred))\n",
    "    print(\"ROC AUC\", roc_auc_score(y_test, y_pred))\n",
    "    print(\"Classification Report:\\n\", classification_report(y_test, y_pred))"
   ]
  },
  {
   "cell_type": "code",
   "execution_count": null,
   "id": "0266b90b",
   "metadata": {},
   "outputs": [
    {
     "data": {
      "image/png": "[encoded data removed]",
      "text/plain": [
       "<Figure size 600x500 with 2 Axes>"
      ]
     },
     "metadata": {},
     "output_type": "display_data"
    }
   ],
   "source": [
    "# Plot confusion matrix for the best model\n",
    "import seaborn as sns\n",
    "import matplotlib.pyplot as plt\n",
    "from sklearn.metrics import ConfusionMatrixDisplay\n",
    "\n",
    "# Get predictions from the best XGBoost model\n",
    "xgb_best = grid_xgb.best_estimator_\n",
    "y_pred_xgb = xgb_best.predict(X_test)\n",
    "\n",
    "# Compute confusion matrix\n",
    "cm = confusion_matrix(y_test, y_pred_xgb)\n",
    "\n",
    "# Plot confusion matrix\n",
    "plt.figure(figsize=(6, 5))\n",
    "sns.heatmap(cm, annot=True, fmt='d', cmap='Blues', cbar=True,\n",
    "            xticklabels=['Not Worried', 'Worried'],\n",
    "            yticklabels=['Not Worried', 'Worried'])\n",
    "plt.title('Confusion Matrix for XGBoost (Tuned)')\n",
    "plt.xlabel('Predicted')\n",
    "plt.ylabel('Actual')\n",
    "plt.tight_layout()\n",
    "plt.show()"
   ]
  },
  {
   "cell_type": "code",
   "execution_count": null,
   "id": "2202c3e8",
   "metadata": {},
   "outputs": [
    {
     "data": {
      "image/png": "[encoded data removed]",
      "text/plain": [
       "<Figure size 700x600 with 1 Axes>"
      ]
     },
     "metadata": {},
     "output_type": "display_data"
    }
   ],
   "source": [
    "# Plot ROC curve for the best XGBoost model\n",
    "from sklearn.metrics import roc_curve, auc\n",
    "\n",
    "# Predict probabilities for XGBoost model\n",
    "y_proba_xgb = xgb_best.predict_proba(X_test)[:, 1]  # Probabilities for the positive class\n",
    "\n",
    "# Compute ROC curve and AUC\n",
    "fpr, tpr, thresholds = roc_curve(y_test, y_proba_xgb)\n",
    "roc_auc = auc(fpr, tpr)\n",
    "\n",
    "# Plot ROC curve\n",
    "plt.figure(figsize=(7, 6))\n",
    "plt.plot(fpr, tpr, color='darkorange', lw=2, label=f'ROC curve (AUC = {roc_auc:.2f})')\n",
    "plt.plot([0, 1], [0,1], color='navy', lw=2, linestyle='--', label='Chance')\n",
    "plt.xlim([0.0, 1.0])\n",
    "plt.ylim([0.0, 1.05])\n",
    "plt.xlabel('False Positive Rate')\n",
    "plt.ylabel('True Positive Rate')\n",
    "plt.title('ROC Curve for XGBoost (Tuned)')\n",
    "plt.legend(loc='lower right')\n",
    "plt.grid(True)\n",
    "plt.tight_layout()\n",
    "plt.show()"
   ]
  },
  {
   "cell_type": "markdown",
   "id": "21683f28",
   "metadata": {},
   "source": [
    "#### Save Best Model"
   ]
  },
  {
   "cell_type": "code",
   "execution_count": 18,
   "id": "f5e7b48a",
   "metadata": {},
   "outputs": [
    {
     "data": {
      "text/plain": [
       "['best_xgb_model.pkl']"
      ]
     },
     "execution_count": 18,
     "metadata": {},
     "output_type": "execute_result"
    }
   ],
   "source": [
    "import joblib\n",
    "joblib.dump(best_models['XGBoost (Tuned)'], 'best_xgb_model.pkl')"
   ]
  }
 ],
 "metadata": {
  "kernelspec": {
   "display_name": "techenv",
   "language": "python",
   "name": "python3"
  },
  "language_info": {
   "codemirror_mode": {
    "name": "ipython",
    "version": 3
   },
   "file_extension": ".py",
   "mimetype": "text/x-python",
   "name": "python",
   "nbconvert_exporter": "python",
   "pygments_lexer": "ipython3",
   "version": "3.12.10"
  }
 },
 "nbformat": 4,
 "nbformat_minor": 5
}
